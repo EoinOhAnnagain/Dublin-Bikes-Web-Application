{
 "cells": [
  {
   "cell_type": "code",
   "execution_count": null,
   "metadata": {},
   "outputs": [],
   "source": [
    "#Importing packages\n",
    "\n",
    "from sqlalchemy import Table, Column, Integer, Float, String, MetaData, DateTime, create_engine\n",
    "from sqlalchemy.orm import sessionmaker\n",
    "import requests\n",
    "import json\n",
    "import datetime\n",
    "from IPython.display import JSON\n",
    "import time\n",
    "\n",
    "#Import API details and database connection from APID.\n",
    "#Make sure APID has your details or it will fail. \n",
    "from APID import *"
   ]
  },
  {
   "cell_type": "code",
   "execution_count": null,
   "metadata": {
    "pycharm": {
     "name": "#%%\n"
    }
   },
   "outputs": [],
   "source": [
    "#Connecting to database\n",
    "\n",
    "print(engine.url)"
   ]
  },
  {
   "cell_type": "code",
   "execution_count": null,
   "metadata": {
    "pycharm": {
     "name": "#%%\n"
    }
   },
   "outputs": [],
   "source": [
    "#Creating tables\n",
    "\n",
    "meta = MetaData()\n",
    "\n",
    "stations = Table(\n",
    "    'stations', meta,\n",
    "    Column('number', Integer, primary_key = True),\n",
    "    Column('contract_name', String(128)),\n",
    "    Column('name', String(128)),\n",
    "    Column('address', String(128)),\n",
    "    Column('pos_lat', Float),\n",
    "    Column('pos_lng', Float),\n",
    "    Column('banking', Integer),\n",
    "    Column('bonus', Integer),\n",
    "    Column('bike_stands', Integer),\n",
    "    Column('available_bike_stands', Integer),\n",
    "    Column('available_bikes', Integer),\n",
    "    Column('status', String(128)),\n",
    "    Column('last_update', DateTime),\n",
    "    Column('post_time', DateTime)\n",
    ")\n",
    "\n",
    "availability = Table(\n",
    "    'availability', meta,\n",
    "    Column('number', Integer),\n",
    "    Column('contract_name', String(128)),\n",
    "    Column('name', String(128)),\n",
    "    Column('address', String(128)),\n",
    "    Column('pos_lat', Float),\n",
    "    Column('pos_lng', Float),\n",
    "    Column('banking', Integer),\n",
    "    Column('bonus', Integer),\n",
    "    Column('bike_stands', Integer),\n",
    "    Column('available_bike_stands', Integer),\n",
    "    Column('available_bikes', Integer),\n",
    "    Column('status', String(128)),\n",
    "    Column('last_update', DateTime),\n",
    "    Column('post_time', DateTime)\n",
    ")\n",
    "\n",
    "stations.create(engine, checkfirst=True)\n",
    "availability.create(engine, checkfirst=True)"
   ]
  },
  {
   "cell_type": "code",
   "execution_count": null,
   "metadata": {
    "pycharm": {
     "name": "#%%\n"
    }
   },
   "outputs": [],
   "source": [
    "#Connecting to JCDecaux API\n",
    "\n",
    "from APID import *\n",
    "\n",
    "r = requests.get(STATIONS, params={\"apiKey\": APIKEY, \"contract\": NAME})\n",
    "\n",
    "r.json()"
   ]
  },
  {
   "cell_type": "code",
   "execution_count": null,
   "metadata": {
    "pycharm": {
     "name": "#%%\n"
    }
   },
   "outputs": [],
   "source": [
    "#Inserting data into the stations table\n",
    "\n",
    "def get_station(obj):\n",
    "    return {'number': obj['number'],\n",
    "            'contract_name': obj['contract_name'],\n",
    "           'name': obj['name'],\n",
    "            'address': obj['address'],\n",
    "            'pos_lng': obj['position']['lng'],\n",
    "            'pos_lat': obj['position']['lat'],\n",
    "            'banking': obj['banking'],\n",
    "            'bonus': obj['bonus'],\n",
    "            'bike_stands': obj['bike_stands'],\n",
    "            'available_bike_stands': obj['available_bike_stands'],\n",
    "            'available_bikes': obj['available_bikes'],\n",
    "            'status': obj['status'],\n",
    "            'last_update': datetime.datetime.fromtimestamp( int(anti_none(obj['last_update']) / 1e3) ),\n",
    "            'post_time': datetime.datetime.now()\n",
    "           }\n",
    "            \n",
    "#This Function just sets the value to 0 if it is None. This prevents crashes if there is an issue with the API.\n",
    "def anti_none(result):\n",
    "    if result is None:\n",
    "        result = 0\n",
    "    return result\n",
    "\n",
    "values = list(map(get_station, r.json()))\n",
    "#print(values)\n",
    "ins = stations.insert().values(values)\n",
    "engine.execute(ins)"
   ]
  },
  {
   "cell_type": "code",
   "execution_count": null,
   "metadata": {
    "pycharm": {
     "name": "#%%\n"
    }
   },
   "outputs": [],
   "source": [
    "#Inserting data into the availability table every 5 minutes\n",
    "\n",
    "def main():\n",
    "    \n",
    "    while True:\n",
    "        print(\"Start of loop \",i)\n",
    "        try:\n",
    "            r = requests.get(STATIONS, params={\"apiKey\": APIKEY, \"contract\": NAME})\n",
    "\n",
    "            def get_availability(obj):\n",
    "                return {'number': obj['number'],\n",
    "                    'contract_name': obj['contract_name'],\n",
    "                   'name': obj['name'],\n",
    "                    'address': obj['address'],\n",
    "                    'pos_lng': obj['position']['lng'],\n",
    "                    'pos_lat': obj['position']['lat'],\n",
    "                    'banking': obj['banking'],\n",
    "                    'bonus': obj['bonus'],\n",
    "                    'bike_stands': obj['bike_stands'],\n",
    "                    'available_bike_stands': obj['available_bike_stands'],\n",
    "                    'available_bikes': obj['available_bikes'],\n",
    "                    'status': obj['status'],\n",
    "                    'last_update': datetime.datetime.fromtimestamp( int(anti_none(obj['last_update']) / 1e3) ),\n",
    "                    'post_time': datetime.datetime.now()\n",
    "                   }\n",
    "\n",
    "            #This Function just sets the value to 0 if it is None. This prevents crashes if there is an issue with the API.\n",
    "            def anti_none(result):\n",
    "                if result is None:\n",
    "                    result = 0\n",
    "                return result\n",
    "\n",
    "            values = list(map(get_availability, r.json()))\n",
    "            ins = availability.insert().values(values)\n",
    "            engine.execute(ins)\n",
    "\n",
    "            time.sleep(5*60)\n",
    "\n",
    "        except:\n",
    "            print('error')\n",
    "    return\n",
    "\n",
    "\n",
    "if __name__ == '__main__':\n",
    "    main()"
   ]
  },
  {
   "cell_type": "code",
   "execution_count": null,
   "metadata": {},
   "outputs": [],
   "source": []
  },
  {
   "cell_type": "code",
   "execution_count": null,
   "metadata": {},
   "outputs": [],
   "source": []
  }
 ],
 "metadata": {
  "kernelspec": {
   "display_name": "Python 3",
   "language": "python",
   "name": "python3"
  },
  "language_info": {
   "codemirror_mode": {
    "name": "ipython",
    "version": 3
   },
   "file_extension": ".py",
   "mimetype": "text/x-python",
   "name": "python",
   "nbconvert_exporter": "python",
   "pygments_lexer": "ipython3",
   "version": "3.8.5"
  }
 },
 "nbformat": 4,
 "nbformat_minor": 1
}
